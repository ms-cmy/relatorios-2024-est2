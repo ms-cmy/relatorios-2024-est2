{
 "cells": [
  {
   "cell_type": "code",
   "execution_count": 1,
   "metadata": {},
   "outputs": [],
   "source": [
    "data = {\n",
    "    \"lampada_I\": [2.40, 2.52, 2.65, 6.77, 2.89, 3.02, 3.12, 3.23, 3.34, 3.43, 3.52, 3.65, 3.76], # A\n",
    "    \"lampada_V\": [4.40, 4.89, 5.36, 5.8, 6.26, 6.79, 7.21, 7.72, 8.18, 8.65, 9.09, 9.59, 10.07], # V\n",
    "    \"sensor_V\": [3.5, 4.6, 5.7, 6.7, 7.8, 9.0, 10, 11.3, 12.4, 13.4, 14.9, 16.5, 18], # V10e-3\n",
    "}"
   ]
  },
  {
   "cell_type": "code",
   "execution_count": 2,
   "metadata": {},
   "outputs": [],
   "source": [
    "import pandas as pd"
   ]
  },
  {
   "cell_type": "code",
   "execution_count": null,
   "metadata": {},
   "outputs": [],
   "source": []
  }
 ],
 "metadata": {
  "kernelspec": {
   "display_name": "Python 3",
   "language": "python",
   "name": "python3"
  },
  "language_info": {
   "codemirror_mode": {
    "name": "ipython",
    "version": 3
   },
   "file_extension": ".py",
   "mimetype": "text/x-python",
   "name": "python",
   "nbconvert_exporter": "python",
   "pygments_lexer": "ipython3",
   "version": "3.12.7"
  }
 },
 "nbformat": 4,
 "nbformat_minor": 2
}
