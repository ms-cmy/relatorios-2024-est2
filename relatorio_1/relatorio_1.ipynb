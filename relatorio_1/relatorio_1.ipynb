{
 "cells": [
  {
   "cell_type": "code",
   "execution_count": 1,
   "metadata": {},
   "outputs": [],
   "source": [
    "import pandas as pd\n",
    "import numpy as np\n",
    "import seaborn as sns\n",
    "import matplotlib.pyplot as plt\n",
    "from sklearn.linear_model import LinearRegression"
   ]
  },
  {
   "cell_type": "markdown",
   "metadata": {},
   "source": [
    "Plotagem do que foi encontrado no computador"
   ]
  },
  {
   "cell_type": "code",
   "execution_count": 2,
   "metadata": {},
   "outputs": [
    {
     "name": "stderr",
     "output_type": "stream",
     "text": [
      "<>:1: SyntaxWarning: invalid escape sequence '\\s'\n",
      "<>:2: SyntaxWarning: invalid escape sequence '\\s'\n",
      "<>:1: SyntaxWarning: invalid escape sequence '\\s'\n",
      "<>:2: SyntaxWarning: invalid escape sequence '\\s'\n",
      "/tmp/ipykernel_42688/3115211537.py:1: SyntaxWarning: invalid escape sequence '\\s'\n",
      "  LiF_refined = pd.read_csv(\"LiF_refined.txt\", sep='\\s+')\n",
      "/tmp/ipykernel_42688/3115211537.py:2: SyntaxWarning: invalid escape sequence '\\s'\n",
      "  KBr_refined = pd.read_csv(\"KBr_refined.txt\", sep='\\s+')\n"
     ]
    }
   ],
   "source": [
    "LiF_refined = pd.read_csv(\"LiF_refined.txt\", sep='\\s+')\n",
    "KBr_refined = pd.read_csv(\"KBr_refined.txt\", sep='\\s+')"
   ]
  },
  {
   "cell_type": "code",
   "execution_count": 3,
   "metadata": {},
   "outputs": [
    {
     "data": {
      "text/html": [
       "<div>\n",
       "<style scoped>\n",
       "    .dataframe tbody tr th:only-of-type {\n",
       "        vertical-align: middle;\n",
       "    }\n",
       "\n",
       "    .dataframe tbody tr th {\n",
       "        vertical-align: top;\n",
       "    }\n",
       "\n",
       "    .dataframe thead th {\n",
       "        text-align: right;\n",
       "    }\n",
       "</style>\n",
       "<table border=\"1\" class=\"dataframe\">\n",
       "  <thead>\n",
       "    <tr style=\"text-align: right;\">\n",
       "      <th></th>\n",
       "      <th>angulo</th>\n",
       "      <th>ocorrencias</th>\n",
       "    </tr>\n",
       "  </thead>\n",
       "  <tbody>\n",
       "    <tr>\n",
       "      <th>0</th>\n",
       "      <td>3.0</td>\n",
       "      <td>45.0</td>\n",
       "    </tr>\n",
       "    <tr>\n",
       "      <th>1</th>\n",
       "      <td>3.1</td>\n",
       "      <td>35.0</td>\n",
       "    </tr>\n",
       "    <tr>\n",
       "      <th>2</th>\n",
       "      <td>3.2</td>\n",
       "      <td>19.0</td>\n",
       "    </tr>\n",
       "    <tr>\n",
       "      <th>3</th>\n",
       "      <td>3.3</td>\n",
       "      <td>16.0</td>\n",
       "    </tr>\n",
       "    <tr>\n",
       "      <th>4</th>\n",
       "      <td>3.4</td>\n",
       "      <td>20.0</td>\n",
       "    </tr>\n",
       "    <tr>\n",
       "      <th>...</th>\n",
       "      <td>...</td>\n",
       "      <td>...</td>\n",
       "    </tr>\n",
       "    <tr>\n",
       "      <th>516</th>\n",
       "      <td>54.6</td>\n",
       "      <td>3.0</td>\n",
       "    </tr>\n",
       "    <tr>\n",
       "      <th>517</th>\n",
       "      <td>54.7</td>\n",
       "      <td>7.0</td>\n",
       "    </tr>\n",
       "    <tr>\n",
       "      <th>518</th>\n",
       "      <td>54.8</td>\n",
       "      <td>5.0</td>\n",
       "    </tr>\n",
       "    <tr>\n",
       "      <th>519</th>\n",
       "      <td>54.9</td>\n",
       "      <td>6.0</td>\n",
       "    </tr>\n",
       "    <tr>\n",
       "      <th>520</th>\n",
       "      <td>55.0</td>\n",
       "      <td>4.0</td>\n",
       "    </tr>\n",
       "  </tbody>\n",
       "</table>\n",
       "<p>521 rows × 2 columns</p>\n",
       "</div>"
      ],
      "text/plain": [
       "     angulo  ocorrencias\n",
       "0       3.0         45.0\n",
       "1       3.1         35.0\n",
       "2       3.2         19.0\n",
       "3       3.3         16.0\n",
       "4       3.4         20.0\n",
       "..      ...          ...\n",
       "516    54.6          3.0\n",
       "517    54.7          7.0\n",
       "518    54.8          5.0\n",
       "519    54.9          6.0\n",
       "520    55.0          4.0\n",
       "\n",
       "[521 rows x 2 columns]"
      ]
     },
     "execution_count": 3,
     "metadata": {},
     "output_type": "execute_result"
    }
   ],
   "source": [
    "LiF_refined"
   ]
  },
  {
   "cell_type": "code",
   "execution_count": 4,
   "metadata": {},
   "outputs": [
    {
     "data": {
      "text/html": [
       "<div>\n",
       "<style scoped>\n",
       "    .dataframe tbody tr th:only-of-type {\n",
       "        vertical-align: middle;\n",
       "    }\n",
       "\n",
       "    .dataframe tbody tr th {\n",
       "        vertical-align: top;\n",
       "    }\n",
       "\n",
       "    .dataframe thead th {\n",
       "        text-align: right;\n",
       "    }\n",
       "</style>\n",
       "<table border=\"1\" class=\"dataframe\">\n",
       "  <thead>\n",
       "    <tr style=\"text-align: right;\">\n",
       "      <th></th>\n",
       "      <th>angulo</th>\n",
       "      <th>ocorrencias</th>\n",
       "    </tr>\n",
       "  </thead>\n",
       "  <tbody>\n",
       "    <tr>\n",
       "      <th>0</th>\n",
       "      <td>3.0</td>\n",
       "      <td>981.0</td>\n",
       "    </tr>\n",
       "    <tr>\n",
       "      <th>1</th>\n",
       "      <td>3.1</td>\n",
       "      <td>735.0</td>\n",
       "    </tr>\n",
       "    <tr>\n",
       "      <th>2</th>\n",
       "      <td>3.2</td>\n",
       "      <td>555.0</td>\n",
       "    </tr>\n",
       "    <tr>\n",
       "      <th>3</th>\n",
       "      <td>3.3</td>\n",
       "      <td>435.0</td>\n",
       "    </tr>\n",
       "    <tr>\n",
       "      <th>4</th>\n",
       "      <td>3.4</td>\n",
       "      <td>397.0</td>\n",
       "    </tr>\n",
       "    <tr>\n",
       "      <th>...</th>\n",
       "      <td>...</td>\n",
       "      <td>...</td>\n",
       "    </tr>\n",
       "    <tr>\n",
       "      <th>716</th>\n",
       "      <td>74.6</td>\n",
       "      <td>40.0</td>\n",
       "    </tr>\n",
       "    <tr>\n",
       "      <th>717</th>\n",
       "      <td>74.7</td>\n",
       "      <td>33.0</td>\n",
       "    </tr>\n",
       "    <tr>\n",
       "      <th>718</th>\n",
       "      <td>74.8</td>\n",
       "      <td>29.0</td>\n",
       "    </tr>\n",
       "    <tr>\n",
       "      <th>719</th>\n",
       "      <td>74.9</td>\n",
       "      <td>34.0</td>\n",
       "    </tr>\n",
       "    <tr>\n",
       "      <th>720</th>\n",
       "      <td>75.0</td>\n",
       "      <td>26.0</td>\n",
       "    </tr>\n",
       "  </tbody>\n",
       "</table>\n",
       "<p>721 rows × 2 columns</p>\n",
       "</div>"
      ],
      "text/plain": [
       "     angulo  ocorrencias\n",
       "0       3.0        981.0\n",
       "1       3.1        735.0\n",
       "2       3.2        555.0\n",
       "3       3.3        435.0\n",
       "4       3.4        397.0\n",
       "..      ...          ...\n",
       "716    74.6         40.0\n",
       "717    74.7         33.0\n",
       "718    74.8         29.0\n",
       "719    74.9         34.0\n",
       "720    75.0         26.0\n",
       "\n",
       "[721 rows x 2 columns]"
      ]
     },
     "execution_count": 4,
     "metadata": {},
     "output_type": "execute_result"
    }
   ],
   "source": [
    "KBr_refined"
   ]
  },
  {
   "cell_type": "code",
   "execution_count": 5,
   "metadata": {},
   "outputs": [
    {
     "data": {
      "image/png": "[encoded data removed]",
      "text/plain": [
       "<Figure size 1600x400 with 1 Axes>"
      ]
     },
     "metadata": {},
     "output_type": "display_data"
    }
   ],
   "source": [
    "plt.figure(figsize=(16,4))\n",
    "plt.title(\"Gráfico Ângulo X incidencias de raio x para o cristal de LiF\")\n",
    "plt.ylabel(\"Intensidade (unidade arbritária)\")\n",
    "plt.xlabel(\"Ângulo (°)\")\n",
    "sns.lineplot(x='angulo', y='ocorrencias', data=LiF_refined)\n",
    "plt.show()"
   ]
  },
  {
   "cell_type": "code",
   "execution_count": 6,
   "metadata": {},
   "outputs": [
    {
     "data": {
      "image/png": "[encoded data removed]",
      "text/plain": [
       "<Figure size 1600x400 with 1 Axes>"
      ]
     },
     "metadata": {},
     "output_type": "display_data"
    }
   ],
   "source": [
    "plt.figure(figsize=(16,4))\n",
    "plt.title(\"Gráfico Ângulo X incidencias de raio x para o cristal de KBr\")\n",
    "plt.ylabel(\"Intensidade (unidade arbritária)\")\n",
    "plt.xlabel(\"Ângulo (°)\")\n",
    "sns.lineplot(x='angulo', y='ocorrencias', data=KBr_refined)\n",
    "plt.show()"
   ]
  },
  {
   "cell_type": "code",
   "execution_count": 7,
   "metadata": {},
   "outputs": [],
   "source": [
    "corrente = 0.6 # mA\n",
    "temp_integracao = 2 # s (gate), \n",
    "v = 35 # kV"
   ]
  },
  {
   "cell_type": "code",
   "execution_count": 8,
   "metadata": {},
   "outputs": [],
   "source": [
    "# IO medidas de intensidades  (Qual a unidade)\n",
    "\n",
    "# lembrando que sem a lamina de aluminio utilizamos corrente = 1 mA\n",
    "\n",
    "medidas_LiF = {\n",
    "    \"angulo\" : [20.3, 22.6],\n",
    "    \"IO_sem\": [[1206, 1234, 1212, 1272, 1268], [4140, 4379, 4242, 4284, 4220]],\n",
    "    \"IO_com_al (0.02mm)\": [[1004, 1018, 1010, 937, 1027], [3410, 3434, 3443, 3481, 3338]],\n",
    "    \"IO_com_al (0.04mm)\": [[831, 748, 879, 819, 866], [2700, 2685, 2677, 2751, 2804]],\n",
    "    \"IO_com_al (0.06mm)\": [[700, 680, 669, 696, 688], [2040, 2141, 2150, 2113, 2125]],\n",
    "    \"IO_com_al (0.08mm)\": [[576, 525, 536, 542, 554], [1618, 1640, 1571, 1612, 1605]],\n",
    "    \"IO_com_al (0.10mm)\": [[509, 503, 504, 518, 507], [1431, 1455, 1400, 1444, 1450]],\n",
    "    \"IO_com_al (0.12mm)\": [[418, 448, 399, 412, 426], [1109, 1096, 1119, 1071, 1117]],\n",
    "    \"IO_com_al (0.14mm)\": [[311, 300, 321, 339, 338], [880, 825, 875, 917, 887]],\n",
    "    \"IO_com_al (0.16mm)\": [[278, 266, 291, 271, 285], [615, 690, 636, 664, 691]],\n",
    "    \"IO_com_al (0.18mm)\": [[221, 236, 219, 241, 248], [512, 467, 498, 480, 502]],\n",
    "}\n",
    "        "
   ]
  },
  {
   "cell_type": "code",
   "execution_count": 9,
   "metadata": {},
   "outputs": [],
   "source": [
    "# não era necessário\n",
    "medidas_Kbr = {\n",
    "    \"Angulo\": [12.3, 13.6],\n",
    "    \"IO_sem\": [[1214, 1226, 1200, 1161, 1217], [4137, 4144, 4074, 4071, 4110]],\n",
    "    \"IO_com_al (0.02mm)\": [[920, 1036,  982, 945, 966], [3311, 3250, 3202, 3271, 3269]],\n",
    "    \"IO_com_al (0.04mm)\": [[810, 826, 787, 775, 825], [2568, 2545, 2587, 2616, 2601]],\n",
    "    \"IO_com_al (0.06mm)\": [[644, 702, 665, 709, 692], [2022, 2017, 2046, 1937, 2065]],\n",
    "    \"IO_com_al (0.08mm)\": [[558, 529, 531, 533, 549], [1623, 1480, 1590, 1539, 1517]],\n",
    "    \"IO_com_al (0.10mm)\": [[463, 491, 500, 502, 534], [1414, 1328, 1396, 1435, 1337]],\n",
    "    \"IO_com_al (0.12mm)\": [[393, 452, 411, 387, 397], [1080, 1069, 1083, 1070, 1090]],\n",
    "    \"IO_com_al (0.14mm)\": [[290, 324, 292, 272, 300], [837, 805, 854, 819, 827]],\n",
    "    \"IO_com_al (0.16mm)\": [[256, 298, 299, 247, 258], [637, 658, 648, 623, 644]],\n",
    "    \"IO_com_al (0.18mm)\": [[218, 207, 202, 201, 233], [442, 479, 471, 481, 465]],\n",
    "}"
   ]
  },
  {
   "cell_type": "markdown",
   "metadata": {},
   "source": [
    "Carregando os dados"
   ]
  },
  {
   "cell_type": "code",
   "execution_count": 10,
   "metadata": {},
   "outputs": [
    {
     "data": {
      "text/html": [
       "<div>\n",
       "<style scoped>\n",
       "    .dataframe tbody tr th:only-of-type {\n",
       "        vertical-align: middle;\n",
       "    }\n",
       "\n",
       "    .dataframe tbody tr th {\n",
       "        vertical-align: top;\n",
       "    }\n",
       "\n",
       "    .dataframe thead th {\n",
       "        text-align: right;\n",
       "    }\n",
       "</style>\n",
       "<table border=\"1\" class=\"dataframe\">\n",
       "  <thead>\n",
       "    <tr style=\"text-align: right;\">\n",
       "      <th></th>\n",
       "      <th>angulo</th>\n",
       "      <th>IO_sem</th>\n",
       "      <th>IO_com_al (0.02mm)</th>\n",
       "      <th>IO_com_al (0.04mm)</th>\n",
       "      <th>IO_com_al (0.06mm)</th>\n",
       "      <th>IO_com_al (0.08mm)</th>\n",
       "      <th>IO_com_al (0.10mm)</th>\n",
       "      <th>IO_com_al (0.12mm)</th>\n",
       "      <th>IO_com_al (0.14mm)</th>\n",
       "      <th>IO_com_al (0.16mm)</th>\n",
       "      <th>IO_com_al (0.18mm)</th>\n",
       "    </tr>\n",
       "  </thead>\n",
       "  <tbody>\n",
       "    <tr>\n",
       "      <th>0</th>\n",
       "      <td>20.3</td>\n",
       "      <td>[1206, 1234, 1212, 1272, 1268]</td>\n",
       "      <td>[1004, 1018, 1010, 937, 1027]</td>\n",
       "      <td>[831, 748, 879, 819, 866]</td>\n",
       "      <td>[700, 680, 669, 696, 688]</td>\n",
       "      <td>[576, 525, 536, 542, 554]</td>\n",
       "      <td>[509, 503, 504, 518, 507]</td>\n",
       "      <td>[418, 448, 399, 412, 426]</td>\n",
       "      <td>[311, 300, 321, 339, 338]</td>\n",
       "      <td>[278, 266, 291, 271, 285]</td>\n",
       "      <td>[221, 236, 219, 241, 248]</td>\n",
       "    </tr>\n",
       "    <tr>\n",
       "      <th>1</th>\n",
       "      <td>22.6</td>\n",
       "      <td>[4140, 4379, 4242, 4284, 4220]</td>\n",
       "      <td>[3410, 3434, 3443, 3481, 3338]</td>\n",
       "      <td>[2700, 2685, 2677, 2751, 2804]</td>\n",
       "      <td>[2040, 2141, 2150, 2113, 2125]</td>\n",
       "      <td>[1618, 1640, 1571, 1612, 1605]</td>\n",
       "      <td>[1431, 1455, 1400, 1444, 1450]</td>\n",
       "      <td>[1109, 1096, 1119, 1071, 1117]</td>\n",
       "      <td>[880, 825, 875, 917, 887]</td>\n",
       "      <td>[615, 690, 636, 664, 691]</td>\n",
       "      <td>[512, 467, 498, 480, 502]</td>\n",
       "    </tr>\n",
       "  </tbody>\n",
       "</table>\n",
       "</div>"
      ],
      "text/plain": [
       "   angulo                          IO_sem              IO_com_al (0.02mm)  \\\n",
       "0    20.3  [1206, 1234, 1212, 1272, 1268]   [1004, 1018, 1010, 937, 1027]   \n",
       "1    22.6  [4140, 4379, 4242, 4284, 4220]  [3410, 3434, 3443, 3481, 3338]   \n",
       "\n",
       "               IO_com_al (0.04mm)              IO_com_al (0.06mm)  \\\n",
       "0       [831, 748, 879, 819, 866]       [700, 680, 669, 696, 688]   \n",
       "1  [2700, 2685, 2677, 2751, 2804]  [2040, 2141, 2150, 2113, 2125]   \n",
       "\n",
       "               IO_com_al (0.08mm)              IO_com_al (0.10mm)  \\\n",
       "0       [576, 525, 536, 542, 554]       [509, 503, 504, 518, 507]   \n",
       "1  [1618, 1640, 1571, 1612, 1605]  [1431, 1455, 1400, 1444, 1450]   \n",
       "\n",
       "               IO_com_al (0.12mm)         IO_com_al (0.14mm)  \\\n",
       "0       [418, 448, 399, 412, 426]  [311, 300, 321, 339, 338]   \n",
       "1  [1109, 1096, 1119, 1071, 1117]  [880, 825, 875, 917, 887]   \n",
       "\n",
       "          IO_com_al (0.16mm)         IO_com_al (0.18mm)  \n",
       "0  [278, 266, 291, 271, 285]  [221, 236, 219, 241, 248]  \n",
       "1  [615, 690, 636, 664, 691]  [512, 467, 498, 480, 502]  "
      ]
     },
     "execution_count": 10,
     "metadata": {},
     "output_type": "execute_result"
    }
   ],
   "source": [
    "df = pd.DataFrame(medidas_LiF)\n",
    "df"
   ]
  },
  {
   "cell_type": "markdown",
   "metadata": {},
   "source": [
    "Pequeno tratamento de dados"
   ]
  },
  {
   "cell_type": "code",
   "execution_count": 11,
   "metadata": {},
   "outputs": [
    {
     "name": "stderr",
     "output_type": "stream",
     "text": [
      "/tmp/ipykernel_42688/346881642.py:1: FutureWarning: The behavior of array concatenation with empty entries is deprecated. In a future version, this will no longer exclude empty items when determining the result dtype. To retain the old behavior, exclude the empty entries before the concat operation.\n",
      "  df = pd.DataFrame(df.set_index('angulo').T.unstack()).reset_index().set_index([\"angulo\", 'level_1']).explode(column=[0])\n"
     ]
    },
    {
     "data": {
      "text/html": [
       "<div>\n",
       "<style scoped>\n",
       "    .dataframe tbody tr th:only-of-type {\n",
       "        vertical-align: middle;\n",
       "    }\n",
       "\n",
       "    .dataframe tbody tr th {\n",
       "        vertical-align: top;\n",
       "    }\n",
       "\n",
       "    .dataframe thead th {\n",
       "        text-align: right;\n",
       "    }\n",
       "</style>\n",
       "<table border=\"1\" class=\"dataframe\">\n",
       "  <thead>\n",
       "    <tr style=\"text-align: right;\">\n",
       "      <th></th>\n",
       "      <th>angulo</th>\n",
       "      <th>material</th>\n",
       "      <th>IO</th>\n",
       "    </tr>\n",
       "  </thead>\n",
       "  <tbody>\n",
       "    <tr>\n",
       "      <th>0</th>\n",
       "      <td>20.3</td>\n",
       "      <td>IO_sem</td>\n",
       "      <td>1206</td>\n",
       "    </tr>\n",
       "    <tr>\n",
       "      <th>1</th>\n",
       "      <td>20.3</td>\n",
       "      <td>IO_sem</td>\n",
       "      <td>1234</td>\n",
       "    </tr>\n",
       "    <tr>\n",
       "      <th>2</th>\n",
       "      <td>20.3</td>\n",
       "      <td>IO_sem</td>\n",
       "      <td>1212</td>\n",
       "    </tr>\n",
       "    <tr>\n",
       "      <th>3</th>\n",
       "      <td>20.3</td>\n",
       "      <td>IO_sem</td>\n",
       "      <td>1272</td>\n",
       "    </tr>\n",
       "    <tr>\n",
       "      <th>4</th>\n",
       "      <td>20.3</td>\n",
       "      <td>IO_sem</td>\n",
       "      <td>1268</td>\n",
       "    </tr>\n",
       "    <tr>\n",
       "      <th>...</th>\n",
       "      <td>...</td>\n",
       "      <td>...</td>\n",
       "      <td>...</td>\n",
       "    </tr>\n",
       "    <tr>\n",
       "      <th>95</th>\n",
       "      <td>22.6</td>\n",
       "      <td>IO_com_al (0.18mm)</td>\n",
       "      <td>512</td>\n",
       "    </tr>\n",
       "    <tr>\n",
       "      <th>96</th>\n",
       "      <td>22.6</td>\n",
       "      <td>IO_com_al (0.18mm)</td>\n",
       "      <td>467</td>\n",
       "    </tr>\n",
       "    <tr>\n",
       "      <th>97</th>\n",
       "      <td>22.6</td>\n",
       "      <td>IO_com_al (0.18mm)</td>\n",
       "      <td>498</td>\n",
       "    </tr>\n",
       "    <tr>\n",
       "      <th>98</th>\n",
       "      <td>22.6</td>\n",
       "      <td>IO_com_al (0.18mm)</td>\n",
       "      <td>480</td>\n",
       "    </tr>\n",
       "    <tr>\n",
       "      <th>99</th>\n",
       "      <td>22.6</td>\n",
       "      <td>IO_com_al (0.18mm)</td>\n",
       "      <td>502</td>\n",
       "    </tr>\n",
       "  </tbody>\n",
       "</table>\n",
       "<p>100 rows × 3 columns</p>\n",
       "</div>"
      ],
      "text/plain": [
       "    angulo            material    IO\n",
       "0     20.3              IO_sem  1206\n",
       "1     20.3              IO_sem  1234\n",
       "2     20.3              IO_sem  1212\n",
       "3     20.3              IO_sem  1272\n",
       "4     20.3              IO_sem  1268\n",
       "..     ...                 ...   ...\n",
       "95    22.6  IO_com_al (0.18mm)   512\n",
       "96    22.6  IO_com_al (0.18mm)   467\n",
       "97    22.6  IO_com_al (0.18mm)   498\n",
       "98    22.6  IO_com_al (0.18mm)   480\n",
       "99    22.6  IO_com_al (0.18mm)   502\n",
       "\n",
       "[100 rows x 3 columns]"
      ]
     },
     "execution_count": 11,
     "metadata": {},
     "output_type": "execute_result"
    }
   ],
   "source": [
    "df = pd.DataFrame(df.set_index('angulo').T.unstack()).reset_index().set_index([\"angulo\", 'level_1']).explode(column=[0])\n",
    "df = df.reset_index().dropna(subset=[0]).rename(columns={0: \"IO\", \"level_1\": \"material\"})\n",
    "df"
   ]
  },
  {
   "cell_type": "markdown",
   "metadata": {},
   "source": [
    "Extraindo o tamanho pela string que colocamos"
   ]
  },
  {
   "cell_type": "code",
   "execution_count": 12,
   "metadata": {},
   "outputs": [],
   "source": [
    "df['mm'] = df['material'].str.extract(r'\\((\\d+\\.?\\d*)mm\\)').astype(float)"
   ]
  },
  {
   "cell_type": "code",
   "execution_count": 13,
   "metadata": {},
   "outputs": [],
   "source": [
    "df = df.drop(columns=[\"material\"])"
   ]
  },
  {
   "cell_type": "code",
   "execution_count": 14,
   "metadata": {},
   "outputs": [
    {
     "data": {
      "text/html": [
       "<div>\n",
       "<style scoped>\n",
       "    .dataframe tbody tr th:only-of-type {\n",
       "        vertical-align: middle;\n",
       "    }\n",
       "\n",
       "    .dataframe tbody tr th {\n",
       "        vertical-align: top;\n",
       "    }\n",
       "\n",
       "    .dataframe thead th {\n",
       "        text-align: right;\n",
       "    }\n",
       "</style>\n",
       "<table border=\"1\" class=\"dataframe\">\n",
       "  <thead>\n",
       "    <tr style=\"text-align: right;\">\n",
       "      <th></th>\n",
       "      <th>angulo</th>\n",
       "      <th>IO</th>\n",
       "      <th>mm</th>\n",
       "    </tr>\n",
       "  </thead>\n",
       "  <tbody>\n",
       "    <tr>\n",
       "      <th>0</th>\n",
       "      <td>20.3</td>\n",
       "      <td>1206</td>\n",
       "      <td>NaN</td>\n",
       "    </tr>\n",
       "    <tr>\n",
       "      <th>1</th>\n",
       "      <td>20.3</td>\n",
       "      <td>1234</td>\n",
       "      <td>NaN</td>\n",
       "    </tr>\n",
       "    <tr>\n",
       "      <th>2</th>\n",
       "      <td>20.3</td>\n",
       "      <td>1212</td>\n",
       "      <td>NaN</td>\n",
       "    </tr>\n",
       "    <tr>\n",
       "      <th>3</th>\n",
       "      <td>20.3</td>\n",
       "      <td>1272</td>\n",
       "      <td>NaN</td>\n",
       "    </tr>\n",
       "    <tr>\n",
       "      <th>4</th>\n",
       "      <td>20.3</td>\n",
       "      <td>1268</td>\n",
       "      <td>NaN</td>\n",
       "    </tr>\n",
       "    <tr>\n",
       "      <th>5</th>\n",
       "      <td>20.3</td>\n",
       "      <td>1004</td>\n",
       "      <td>0.02</td>\n",
       "    </tr>\n",
       "    <tr>\n",
       "      <th>6</th>\n",
       "      <td>20.3</td>\n",
       "      <td>1018</td>\n",
       "      <td>0.02</td>\n",
       "    </tr>\n",
       "    <tr>\n",
       "      <th>7</th>\n",
       "      <td>20.3</td>\n",
       "      <td>1010</td>\n",
       "      <td>0.02</td>\n",
       "    </tr>\n",
       "    <tr>\n",
       "      <th>8</th>\n",
       "      <td>20.3</td>\n",
       "      <td>937</td>\n",
       "      <td>0.02</td>\n",
       "    </tr>\n",
       "    <tr>\n",
       "      <th>9</th>\n",
       "      <td>20.3</td>\n",
       "      <td>1027</td>\n",
       "      <td>0.02</td>\n",
       "    </tr>\n",
       "    <tr>\n",
       "      <th>10</th>\n",
       "      <td>20.3</td>\n",
       "      <td>831</td>\n",
       "      <td>0.04</td>\n",
       "    </tr>\n",
       "    <tr>\n",
       "      <th>11</th>\n",
       "      <td>20.3</td>\n",
       "      <td>748</td>\n",
       "      <td>0.04</td>\n",
       "    </tr>\n",
       "    <tr>\n",
       "      <th>12</th>\n",
       "      <td>20.3</td>\n",
       "      <td>879</td>\n",
       "      <td>0.04</td>\n",
       "    </tr>\n",
       "    <tr>\n",
       "      <th>13</th>\n",
       "      <td>20.3</td>\n",
       "      <td>819</td>\n",
       "      <td>0.04</td>\n",
       "    </tr>\n",
       "    <tr>\n",
       "      <th>14</th>\n",
       "      <td>20.3</td>\n",
       "      <td>866</td>\n",
       "      <td>0.04</td>\n",
       "    </tr>\n",
       "    <tr>\n",
       "      <th>15</th>\n",
       "      <td>20.3</td>\n",
       "      <td>700</td>\n",
       "      <td>0.06</td>\n",
       "    </tr>\n",
       "    <tr>\n",
       "      <th>16</th>\n",
       "      <td>20.3</td>\n",
       "      <td>680</td>\n",
       "      <td>0.06</td>\n",
       "    </tr>\n",
       "    <tr>\n",
       "      <th>17</th>\n",
       "      <td>20.3</td>\n",
       "      <td>669</td>\n",
       "      <td>0.06</td>\n",
       "    </tr>\n",
       "    <tr>\n",
       "      <th>18</th>\n",
       "      <td>20.3</td>\n",
       "      <td>696</td>\n",
       "      <td>0.06</td>\n",
       "    </tr>\n",
       "    <tr>\n",
       "      <th>19</th>\n",
       "      <td>20.3</td>\n",
       "      <td>688</td>\n",
       "      <td>0.06</td>\n",
       "    </tr>\n",
       "    <tr>\n",
       "      <th>20</th>\n",
       "      <td>20.3</td>\n",
       "      <td>576</td>\n",
       "      <td>0.08</td>\n",
       "    </tr>\n",
       "    <tr>\n",
       "      <th>21</th>\n",
       "      <td>20.3</td>\n",
       "      <td>525</td>\n",
       "      <td>0.08</td>\n",
       "    </tr>\n",
       "    <tr>\n",
       "      <th>22</th>\n",
       "      <td>20.3</td>\n",
       "      <td>536</td>\n",
       "      <td>0.08</td>\n",
       "    </tr>\n",
       "    <tr>\n",
       "      <th>23</th>\n",
       "      <td>20.3</td>\n",
       "      <td>542</td>\n",
       "      <td>0.08</td>\n",
       "    </tr>\n",
       "    <tr>\n",
       "      <th>24</th>\n",
       "      <td>20.3</td>\n",
       "      <td>554</td>\n",
       "      <td>0.08</td>\n",
       "    </tr>\n",
       "    <tr>\n",
       "      <th>25</th>\n",
       "      <td>20.3</td>\n",
       "      <td>509</td>\n",
       "      <td>0.10</td>\n",
       "    </tr>\n",
       "    <tr>\n",
       "      <th>26</th>\n",
       "      <td>20.3</td>\n",
       "      <td>503</td>\n",
       "      <td>0.10</td>\n",
       "    </tr>\n",
       "    <tr>\n",
       "      <th>27</th>\n",
       "      <td>20.3</td>\n",
       "      <td>504</td>\n",
       "      <td>0.10</td>\n",
       "    </tr>\n",
       "    <tr>\n",
       "      <th>28</th>\n",
       "      <td>20.3</td>\n",
       "      <td>518</td>\n",
       "      <td>0.10</td>\n",
       "    </tr>\n",
       "    <tr>\n",
       "      <th>29</th>\n",
       "      <td>20.3</td>\n",
       "      <td>507</td>\n",
       "      <td>0.10</td>\n",
       "    </tr>\n",
       "    <tr>\n",
       "      <th>30</th>\n",
       "      <td>20.3</td>\n",
       "      <td>418</td>\n",
       "      <td>0.12</td>\n",
       "    </tr>\n",
       "    <tr>\n",
       "      <th>31</th>\n",
       "      <td>20.3</td>\n",
       "      <td>448</td>\n",
       "      <td>0.12</td>\n",
       "    </tr>\n",
       "    <tr>\n",
       "      <th>32</th>\n",
       "      <td>20.3</td>\n",
       "      <td>399</td>\n",
       "      <td>0.12</td>\n",
       "    </tr>\n",
       "    <tr>\n",
       "      <th>33</th>\n",
       "      <td>20.3</td>\n",
       "      <td>412</td>\n",
       "      <td>0.12</td>\n",
       "    </tr>\n",
       "    <tr>\n",
       "      <th>34</th>\n",
       "      <td>20.3</td>\n",
       "      <td>426</td>\n",
       "      <td>0.12</td>\n",
       "    </tr>\n",
       "    <tr>\n",
       "      <th>35</th>\n",
       "      <td>20.3</td>\n",
       "      <td>311</td>\n",
       "      <td>0.14</td>\n",
       "    </tr>\n",
       "    <tr>\n",
       "      <th>36</th>\n",
       "      <td>20.3</td>\n",
       "      <td>300</td>\n",
       "      <td>0.14</td>\n",
       "    </tr>\n",
       "    <tr>\n",
       "      <th>37</th>\n",
       "      <td>20.3</td>\n",
       "      <td>321</td>\n",
       "      <td>0.14</td>\n",
       "    </tr>\n",
       "    <tr>\n",
       "      <th>38</th>\n",
       "      <td>20.3</td>\n",
       "      <td>339</td>\n",
       "      <td>0.14</td>\n",
       "    </tr>\n",
       "    <tr>\n",
       "      <th>39</th>\n",
       "      <td>20.3</td>\n",
       "      <td>338</td>\n",
       "      <td>0.14</td>\n",
       "    </tr>\n",
       "    <tr>\n",
       "      <th>40</th>\n",
       "      <td>20.3</td>\n",
       "      <td>278</td>\n",
       "      <td>0.16</td>\n",
       "    </tr>\n",
       "    <tr>\n",
       "      <th>41</th>\n",
       "      <td>20.3</td>\n",
       "      <td>266</td>\n",
       "      <td>0.16</td>\n",
       "    </tr>\n",
       "    <tr>\n",
       "      <th>42</th>\n",
       "      <td>20.3</td>\n",
       "      <td>291</td>\n",
       "      <td>0.16</td>\n",
       "    </tr>\n",
       "    <tr>\n",
       "      <th>43</th>\n",
       "      <td>20.3</td>\n",
       "      <td>271</td>\n",
       "      <td>0.16</td>\n",
       "    </tr>\n",
       "    <tr>\n",
       "      <th>44</th>\n",
       "      <td>20.3</td>\n",
       "      <td>285</td>\n",
       "      <td>0.16</td>\n",
       "    </tr>\n",
       "    <tr>\n",
       "      <th>45</th>\n",
       "      <td>20.3</td>\n",
       "      <td>221</td>\n",
       "      <td>0.18</td>\n",
       "    </tr>\n",
       "    <tr>\n",
       "      <th>46</th>\n",
       "      <td>20.3</td>\n",
       "      <td>236</td>\n",
       "      <td>0.18</td>\n",
       "    </tr>\n",
       "    <tr>\n",
       "      <th>47</th>\n",
       "      <td>20.3</td>\n",
       "      <td>219</td>\n",
       "      <td>0.18</td>\n",
       "    </tr>\n",
       "    <tr>\n",
       "      <th>48</th>\n",
       "      <td>20.3</td>\n",
       "      <td>241</td>\n",
       "      <td>0.18</td>\n",
       "    </tr>\n",
       "    <tr>\n",
       "      <th>49</th>\n",
       "      <td>20.3</td>\n",
       "      <td>248</td>\n",
       "      <td>0.18</td>\n",
       "    </tr>\n",
       "  </tbody>\n",
       "</table>\n",
       "</div>"
      ],
      "text/plain": [
       "    angulo    IO    mm\n",
       "0     20.3  1206   NaN\n",
       "1     20.3  1234   NaN\n",
       "2     20.3  1212   NaN\n",
       "3     20.3  1272   NaN\n",
       "4     20.3  1268   NaN\n",
       "5     20.3  1004  0.02\n",
       "6     20.3  1018  0.02\n",
       "7     20.3  1010  0.02\n",
       "8     20.3   937  0.02\n",
       "9     20.3  1027  0.02\n",
       "10    20.3   831  0.04\n",
       "11    20.3   748  0.04\n",
       "12    20.3   879  0.04\n",
       "13    20.3   819  0.04\n",
       "14    20.3   866  0.04\n",
       "15    20.3   700  0.06\n",
       "16    20.3   680  0.06\n",
       "17    20.3   669  0.06\n",
       "18    20.3   696  0.06\n",
       "19    20.3   688  0.06\n",
       "20    20.3   576  0.08\n",
       "21    20.3   525  0.08\n",
       "22    20.3   536  0.08\n",
       "23    20.3   542  0.08\n",
       "24    20.3   554  0.08\n",
       "25    20.3   509  0.10\n",
       "26    20.3   503  0.10\n",
       "27    20.3   504  0.10\n",
       "28    20.3   518  0.10\n",
       "29    20.3   507  0.10\n",
       "30    20.3   418  0.12\n",
       "31    20.3   448  0.12\n",
       "32    20.3   399  0.12\n",
       "33    20.3   412  0.12\n",
       "34    20.3   426  0.12\n",
       "35    20.3   311  0.14\n",
       "36    20.3   300  0.14\n",
       "37    20.3   321  0.14\n",
       "38    20.3   339  0.14\n",
       "39    20.3   338  0.14\n",
       "40    20.3   278  0.16\n",
       "41    20.3   266  0.16\n",
       "42    20.3   291  0.16\n",
       "43    20.3   271  0.16\n",
       "44    20.3   285  0.16\n",
       "45    20.3   221  0.18\n",
       "46    20.3   236  0.18\n",
       "47    20.3   219  0.18\n",
       "48    20.3   241  0.18\n",
       "49    20.3   248  0.18"
      ]
     },
     "execution_count": 14,
     "metadata": {},
     "output_type": "execute_result"
    }
   ],
   "source": [
    "df.head(50)"
   ]
  },
  {
   "cell_type": "code",
   "execution_count": 15,
   "metadata": {},
   "outputs": [],
   "source": [
    "df_sem_mm = df[df['mm'].isna()].reset_index(drop=True).drop(columns=[\"mm\"])\n",
    "df_com_mm = df[~df['mm'].isna()].reset_index(drop=True)"
   ]
  },
  {
   "cell_type": "markdown",
   "metadata": {},
   "source": [
    "Calculando I/I0"
   ]
  },
  {
   "cell_type": "code",
   "execution_count": 16,
   "metadata": {},
   "outputs": [],
   "source": [
    "df_com_mm['cumsum'] = 1\n",
    "df_com_mm['cumsum'] = df_com_mm.groupby(['angulo', 'mm'])['cumsum'].cumsum()"
   ]
  },
  {
   "cell_type": "code",
   "execution_count": 17,
   "metadata": {},
   "outputs": [],
   "source": [
    "df_sem_mm['cumsum'] = 1\n",
    "df_sem_mm['cumsum'] = df_sem_mm.groupby(['angulo'])['cumsum'].cumsum()"
   ]
  },
  {
   "cell_type": "code",
   "execution_count": 18,
   "metadata": {},
   "outputs": [],
   "source": [
    "df = df_com_mm.merge(df_sem_mm.rename(columns={\"IO\": \"IO_sem_Al\"}), on=['angulo', 'cumsum'], how='left').drop(columns=['cumsum'])"
   ]
  },
  {
   "cell_type": "code",
   "execution_count": 19,
   "metadata": {},
   "outputs": [],
   "source": [
    "df['I/I0'] = df['IO'].astype(float) / df['IO_sem_Al'].astype(float)"
   ]
  },
  {
   "cell_type": "markdown",
   "metadata": {},
   "source": [
    "Agora temos as informações que queremos, onde:\n",
    "\n",
    "**Angulo**: Angulo em que os raios X foram \"jogados\" no cristal\n",
    "\n",
    "\n",
    "**IO**: quantidade de raio-x detectado\n",
    "\n",
    "**mm**: espessura do material de alumínio protetor\n",
    "\n",
    "**IO_sem_Al**: quantidade de raio-x detectado para o mesmo ângulo, porém sem proteção\n",
    "\n",
    "**I/IO**: divisão entre IO e IO_sem_Al"
   ]
  },
  {
   "cell_type": "code",
   "execution_count": 20,
   "metadata": {},
   "outputs": [
    {
     "data": {
      "text/html": [
       "<div>\n",
       "<style scoped>\n",
       "    .dataframe tbody tr th:only-of-type {\n",
       "        vertical-align: middle;\n",
       "    }\n",
       "\n",
       "    .dataframe tbody tr th {\n",
       "        vertical-align: top;\n",
       "    }\n",
       "\n",
       "    .dataframe thead th {\n",
       "        text-align: right;\n",
       "    }\n",
       "</style>\n",
       "<table border=\"1\" class=\"dataframe\">\n",
       "  <thead>\n",
       "    <tr style=\"text-align: right;\">\n",
       "      <th></th>\n",
       "      <th>angulo</th>\n",
       "      <th>IO</th>\n",
       "      <th>mm</th>\n",
       "      <th>IO_sem_Al</th>\n",
       "      <th>I/I0</th>\n",
       "    </tr>\n",
       "  </thead>\n",
       "  <tbody>\n",
       "    <tr>\n",
       "      <th>0</th>\n",
       "      <td>20.3</td>\n",
       "      <td>1004</td>\n",
       "      <td>0.02</td>\n",
       "      <td>1206</td>\n",
       "      <td>0.832504</td>\n",
       "    </tr>\n",
       "    <tr>\n",
       "      <th>1</th>\n",
       "      <td>20.3</td>\n",
       "      <td>1018</td>\n",
       "      <td>0.02</td>\n",
       "      <td>1234</td>\n",
       "      <td>0.824959</td>\n",
       "    </tr>\n",
       "    <tr>\n",
       "      <th>2</th>\n",
       "      <td>20.3</td>\n",
       "      <td>1010</td>\n",
       "      <td>0.02</td>\n",
       "      <td>1212</td>\n",
       "      <td>0.833333</td>\n",
       "    </tr>\n",
       "    <tr>\n",
       "      <th>3</th>\n",
       "      <td>20.3</td>\n",
       "      <td>937</td>\n",
       "      <td>0.02</td>\n",
       "      <td>1272</td>\n",
       "      <td>0.736635</td>\n",
       "    </tr>\n",
       "    <tr>\n",
       "      <th>4</th>\n",
       "      <td>20.3</td>\n",
       "      <td>1027</td>\n",
       "      <td>0.02</td>\n",
       "      <td>1268</td>\n",
       "      <td>0.809937</td>\n",
       "    </tr>\n",
       "  </tbody>\n",
       "</table>\n",
       "</div>"
      ],
      "text/plain": [
       "   angulo    IO    mm IO_sem_Al      I/I0\n",
       "0    20.3  1004  0.02      1206  0.832504\n",
       "1    20.3  1018  0.02      1234  0.824959\n",
       "2    20.3  1010  0.02      1212  0.833333\n",
       "3    20.3   937  0.02      1272  0.736635\n",
       "4    20.3  1027  0.02      1268  0.809937"
      ]
     },
     "execution_count": 20,
     "metadata": {},
     "output_type": "execute_result"
    }
   ],
   "source": [
    "df.head(5)"
   ]
  },
  {
   "cell_type": "code",
   "execution_count": 21,
   "metadata": {},
   "outputs": [
    {
     "data": {
      "text/plain": [
       "<Axes: xlabel='espessura do AL (mm)', ylabel='I/I0'>"
      ]
     },
     "execution_count": 21,
     "metadata": {},
     "output_type": "execute_result"
    },
    {
     "data": {
      "image/png": "[encoded data removed]",
      "text/plain": [
       "<Figure size 1000x500 with 1 Axes>"
      ]
     },
     "metadata": {},
     "output_type": "display_data"
    }
   ],
   "source": [
    "plt.figure(figsize=(10,5))\n",
    "plt.xlabel('espessura do AL (mm)')\n",
    "sns.scatterplot(data=df, x='mm', y='I/I0', hue='angulo', palette = ['red', 'blue'] )"
   ]
  },
  {
   "cell_type": "markdown",
   "metadata": {},
   "source": [
    "Podemos também plotar a média dos grupos na figura acima"
   ]
  },
  {
   "cell_type": "code",
   "execution_count": 22,
   "metadata": {},
   "outputs": [
    {
     "data": {
      "text/plain": [
       "<Axes: xlabel='mm', ylabel='I/I0'>"
      ]
     },
     "execution_count": 22,
     "metadata": {},
     "output_type": "execute_result"
    },
    {
     "data": {
      "image/png": "[encoded data removed]",
      "text/plain": [
       "<Figure size 1000x500 with 1 Axes>"
      ]
     },
     "metadata": {},
     "output_type": "display_data"
    }
   ],
   "source": [
    "plt.figure(figsize=(10,5))\n",
    "sns.scatterplot(data=pd.DataFrame(df.groupby([\"angulo\", \"mm\"])['I/I0'].mean()).reset_index(), x='mm', y='I/I0', hue='angulo', palette = ['red', 'blue'] )"
   ]
  },
  {
   "cell_type": "code",
   "execution_count": 23,
   "metadata": {},
   "outputs": [],
   "source": [
    "ln1 = LinearRegression(fit_intercept=False) # olhar anotações, não vamos usar o intercept\n",
    "ln2 = LinearRegression(fit_intercept=False)"
   ]
  },
  {
   "cell_type": "code",
   "execution_count": 24,
   "metadata": {},
   "outputs": [],
   "source": [
    "df_203 = df[df['angulo'] == 20.3]\n",
    "df_226 = df[df['angulo'] == 22.6]"
   ]
  },
  {
   "cell_type": "code",
   "execution_count": 25,
   "metadata": {},
   "outputs": [],
   "source": [
    "ln1 = ln1.fit(df_203[['mm']] * 10, np.log(df_203['I/I0'].values))\n",
    "ln2 = ln2.fit(df_226[['mm']] * 10, np.log(df_226['I/I0'].values))"
   ]
  },
  {
   "cell_type": "code",
   "execution_count": 26,
   "metadata": {},
   "outputs": [
    {
     "data": {
      "text/plain": [
       "np.float64(-0.9373467038929341)"
      ]
     },
     "execution_count": 26,
     "metadata": {},
     "output_type": "execute_result"
    }
   ],
   "source": [
    "ln1.coef_[0]"
   ]
  },
  {
   "cell_type": "code",
   "execution_count": 27,
   "metadata": {},
   "outputs": [
    {
     "data": {
      "text/plain": [
       "np.float64(-1.15824946048842)"
      ]
     },
     "execution_count": 27,
     "metadata": {},
     "output_type": "execute_result"
    }
   ],
   "source": [
    "ln2.coef_[0]"
   ]
  },
  {
   "cell_type": "markdown",
   "metadata": {},
   "source": [
    "podemos observar nossas regressões:"
   ]
  },
  {
   "cell_type": "code",
   "execution_count": 28,
   "metadata": {},
   "outputs": [
    {
     "data": {
      "image/png": "[encoded data removed]",
      "text/plain": [
       "<Figure size 640x480 with 1 Axes>"
      ]
     },
     "metadata": {},
     "output_type": "display_data"
    }
   ],
   "source": [
    "sns.lineplot(x=df_203[['mm']].drop_duplicates()['mm'].values,y=ln1.predict(df_203[['mm']].drop_duplicates()[['mm']]), label=\"Mínimos quadrados para o angulo 20.3\")\n",
    "sns.lineplot(x=df_226[['mm']].drop_duplicates()['mm'].values,y=ln2.predict(df_226[['mm']].drop_duplicates()[['mm']]), label=\"Mínimos quadrados para o angulo 22.6\")\n",
    "plt.xlabel('espessura do AL (mm)')\n",
    "plt.ylabel('Atenuação')\n",
    "plt.show()"
   ]
  }
 ],
 "metadata": {
  "kernelspec": {
   "display_name": "Python 3",
   "language": "python",
   "name": "python3"
  },
  "language_info": {
   "codemirror_mode": {
    "name": "ipython",
    "version": 3
   },
   "file_extension": ".py",
   "mimetype": "text/x-python",
   "name": "python",
   "nbconvert_exporter": "python",
   "pygments_lexer": "ipython3",
   "version": "3.12.7"
  }
 },
 "nbformat": 4,
 "nbformat_minor": 2
}
